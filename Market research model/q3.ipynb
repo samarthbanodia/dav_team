{
 "cells": [
  {
   "cell_type": "markdown",
   "metadata": {},
   "source": [
    "Importing all the libraries"
   ]
  },
  {
   "cell_type": "code",
   "execution_count": 1,
   "metadata": {},
   "outputs": [
    {
     "name": "stderr",
     "output_type": "stream",
     "text": [
      "/home/sm4th/.local/lib/python3.10/site-packages/pandas/core/arrays/masked.py:60: UserWarning: Pandas requires version '1.3.6' or newer of 'bottleneck' (version '1.3.2' currently installed).\n",
      "  from pandas.core import (\n"
     ]
    }
   ],
   "source": [
    "import numpy as np\n",
    "import pandas as pd\n",
    "from sklearn.preprocessing import StandardScaler\n",
    "from sklearn.preprocessing import LabelEncoder\n",
    "from sklearn.ensemble import RandomForestClassifier\n",
    "from sklearn.cluster import KMeans\n",
    "\n",
    "\n"
   ]
  },
  {
   "cell_type": "markdown",
   "metadata": {},
   "source": [
    "Reading and Handling Missing Data in Both the Dataframes"
   ]
  },
  {
   "cell_type": "code",
   "execution_count": 2,
   "metadata": {},
   "outputs": [
    {
     "name": "stderr",
     "output_type": "stream",
     "text": [
      "/tmp/ipykernel_36242/502473087.py:10: FutureWarning: A value is trying to be set on a copy of a DataFrame or Series through chained assignment using an inplace method.\n",
      "The behavior will change in pandas 3.0. This inplace method will never work because the intermediate object on which we are setting values always behaves as a copy.\n",
      "\n",
      "For example, when doing 'df[col].method(value, inplace=True)', try using 'df.method({col: value}, inplace=True)' or df[col] = df[col].method(value) instead, to perform the operation inplace on the original object.\n",
      "\n",
      "\n",
      "  training_df[col].fillna(training_df[col].mean(), inplace=True)\n",
      "/tmp/ipykernel_36242/502473087.py:11: FutureWarning: A value is trying to be set on a copy of a DataFrame or Series through chained assignment using an inplace method.\n",
      "The behavior will change in pandas 3.0. This inplace method will never work because the intermediate object on which we are setting values always behaves as a copy.\n",
      "\n",
      "For example, when doing 'df[col].method(value, inplace=True)', try using 'df.method({col: value}, inplace=True)' or df[col] = df[col].method(value) instead, to perform the operation inplace on the original object.\n",
      "\n",
      "\n",
      "  testing_df[col].fillna(testing_df[col].mean(), inplace=True)\n",
      "/tmp/ipykernel_36242/502473087.py:14: FutureWarning: A value is trying to be set on a copy of a DataFrame or Series through chained assignment using an inplace method.\n",
      "The behavior will change in pandas 3.0. This inplace method will never work because the intermediate object on which we are setting values always behaves as a copy.\n",
      "\n",
      "For example, when doing 'df[col].method(value, inplace=True)', try using 'df.method({col: value}, inplace=True)' or df[col] = df[col].method(value) instead, to perform the operation inplace on the original object.\n",
      "\n",
      "\n",
      "  training_df[col].fillna(training_df[col].mode()[0], inplace=True) #[0] as its a series\n",
      "/tmp/ipykernel_36242/502473087.py:15: FutureWarning: A value is trying to be set on a copy of a DataFrame or Series through chained assignment using an inplace method.\n",
      "The behavior will change in pandas 3.0. This inplace method will never work because the intermediate object on which we are setting values always behaves as a copy.\n",
      "\n",
      "For example, when doing 'df[col].method(value, inplace=True)', try using 'df.method({col: value}, inplace=True)' or df[col] = df[col].method(value) instead, to perform the operation inplace on the original object.\n",
      "\n",
      "\n",
      "  testing_df[col].fillna(testing_df[col].mode()[0], inplace=True)\n"
     ]
    }
   ],
   "source": [
    "\n",
    "training_df = pd.read_csv('Q3, Q4_Consumer_Dataset.csv')\n",
    "testing_df = pd.read_csv('Q3, Q4_Consumer_Test_Dataset.csv')\n",
    "\n",
    "numerical_cols = ['Age', 'Family_Size', 'Work_Experience']\n",
    "categorical_cols = ['Gender', 'Ever_Married', 'Profession', 'Graduated', 'Energy_Consumption', 'Preferred_Renewable']\n",
    "\n",
    "all_cols = ['Age', 'Family_Size', 'Work_Experience','Gender', 'Ever_Married', 'Profession', 'Graduated', 'Energy_Consumption', 'Preferred_Renewable']\n",
    "\n",
    "for col in numerical_cols: #replace missing data with mean in numerical cols\n",
    "    training_df[col].fillna(training_df[col].mean(), inplace=True)\n",
    "    testing_df[col].fillna(testing_df[col].mean(), inplace=True)\n",
    "\n",
    "for col in categorical_cols: #replace missing data with mode in categorical data\n",
    "    training_df[col].fillna(training_df[col].mode()[0], inplace=True) #[0] as its a series\n",
    "    testing_df[col].fillna(testing_df[col].mode()[0], inplace=True)\n"
   ]
  },
  {
   "cell_type": "markdown",
   "metadata": {},
   "source": [
    "Label Encoding the categorical columns usinf LabelEncoder"
   ]
  },
  {
   "cell_type": "code",
   "execution_count": 3,
   "metadata": {},
   "outputs": [],
   "source": [
    "le_dictionary = {}\n",
    "for col in categorical_cols:\n",
    "    le = LabelEncoder()\n",
    "    training_df[col] = le.fit_transform(training_df[col])\n",
    "    testing_df[col] = le.transform(testing_df[col])\n",
    "    le_dictionary[col] = le\n",
    "\n",
    "\n",
    "group_le = LabelEncoder() #making the instance\n",
    "training_df['Group'] = group_le.fit_transform(training_df['Group'])\n",
    "\n",
    "testing_df_copy  = testing_df.copy() #making a copy for the Bonus Question"
   ]
  },
  {
   "cell_type": "markdown",
   "metadata": {},
   "source": [
    "Random Forest Model for the first part of the problem"
   ]
  },
  {
   "cell_type": "code",
   "execution_count": 4,
   "metadata": {},
   "outputs": [
    {
     "name": "stdout",
     "output_type": "stream",
     "text": [
      "      Unnamed: 0  Gender  Age  Ever_Married  Family_Size  Profession  \\\n",
      "0              0       0   36             1          1.0           2   \n",
      "1              1       1   37             1          4.0           5   \n",
      "2              2       0   69             1          1.0           0   \n",
      "3              3       1   59             1          2.0           4   \n",
      "4              4       0   19             0          4.0           8   \n",
      "...          ...     ...  ...           ...          ...         ...   \n",
      "2622        2622       1   29             0          4.0           5   \n",
      "2623        2623       0   35             0          1.0           1   \n",
      "2624        2624       0   53             0          2.0           3   \n",
      "2625        2625       1   47             1          5.0           4   \n",
      "2626        2626       0   43             0          3.0           5   \n",
      "\n",
      "      Graduated  Work_Experience  Energy_Consumption  Preferred_Renewable  \\\n",
      "0             1         0.000000                   2                    4   \n",
      "1             1         8.000000                   0                    4   \n",
      "2             0         0.000000                   2                    4   \n",
      "3             0        11.000000                   1                    4   \n",
      "4             0         2.552587                   2                    4   \n",
      "...         ...              ...                 ...                  ...   \n",
      "2622          0         9.000000                   2                    4   \n",
      "2623          1         1.000000                   2                    4   \n",
      "2624          1         2.552587                   2                    4   \n",
      "2625          1         1.000000                   1                    2   \n",
      "2626          1         9.000000                   2                    3   \n",
      "\n",
      "     Predicted_Group  \n",
      "0                  D  \n",
      "1                  A  \n",
      "2                  C  \n",
      "3                  A  \n",
      "4                  C  \n",
      "...              ...  \n",
      "2622               D  \n",
      "2623               B  \n",
      "2624               A  \n",
      "2625               C  \n",
      "2626               D  \n",
      "\n",
      "[2627 rows x 11 columns]\n"
     ]
    }
   ],
   "source": [
    "X_train = training_df.drop('Group', axis=1) #Removing the group colm from X \n",
    "y_train = training_df['Group']\n",
    "X_pred = testing_df\n",
    "\n",
    "rf = RandomForestClassifier(random_state=42) #42 as ive it 42 this whole assignment\n",
    "rf.fit(X_train, y_train)\n",
    "\n",
    "testing_df['Predicted_Group'] = group_le.inverse_transform(rf.predict(X_pred)) #to conver the label encoed data back to the categorical data \n",
    "\n",
    "print(testing_df) #printing the dataframe\n",
    "\n",
    "# testing_df.to_csv('24b0392_Q3&4.csv', index=False)"
   ]
  },
  {
   "cell_type": "markdown",
   "metadata": {},
   "source": [
    "BONUS PART : using kmeans clustering "
   ]
  },
  {
   "cell_type": "code",
   "execution_count": 5,
   "metadata": {},
   "outputs": [
    {
     "name": "stdout",
     "output_type": "stream",
     "text": [
      "      Unnamed: 0  Gender  Age  Ever_Married  Family_Size  Profession  \\\n",
      "0              0       0   36             1          1.0           2   \n",
      "1              1       1   37             1          4.0           5   \n",
      "2              2       0   69             1          1.0           0   \n",
      "3              3       1   59             1          2.0           4   \n",
      "4              4       0   19             0          4.0           8   \n",
      "...          ...     ...  ...           ...          ...         ...   \n",
      "2622        2622       1   29             0          4.0           5   \n",
      "2623        2623       0   35             0          1.0           1   \n",
      "2624        2624       0   53             0          2.0           3   \n",
      "2625        2625       1   47             1          5.0           4   \n",
      "2626        2626       0   43             0          3.0           5   \n",
      "\n",
      "      Graduated  Work_Experience  Energy_Consumption  Preferred_Renewable  \\\n",
      "0             1         0.000000                   2                    4   \n",
      "1             1         8.000000                   0                    4   \n",
      "2             0         0.000000                   2                    4   \n",
      "3             0        11.000000                   1                    4   \n",
      "4             0         2.552587                   2                    4   \n",
      "...         ...              ...                 ...                  ...   \n",
      "2622          0         9.000000                   2                    4   \n",
      "2623          1         1.000000                   2                    4   \n",
      "2624          1         2.552587                   2                    4   \n",
      "2625          1         1.000000                   1                    2   \n",
      "2626          1         9.000000                   2                    3   \n",
      "\n",
      "     Groups  \n",
      "0         B  \n",
      "1         A  \n",
      "2         C  \n",
      "3         C  \n",
      "4         D  \n",
      "...     ...  \n",
      "2622      D  \n",
      "2623      B  \n",
      "2624      B  \n",
      "2625      A  \n",
      "2626      B  \n",
      "\n",
      "[2627 rows x 11 columns]\n"
     ]
    }
   ],
   "source": [
    "scaler = StandardScaler()#explained in report why we use this\n",
    "scaled_features = scaler.fit_transform(testing_df_copy[all_cols])  #used the copy of the dataframe as that frame had a predicted_group col\n",
    "\n",
    "kmeans = KMeans(n_clusters=4, random_state=42) #as we have four groups , a ,b c, d\n",
    "testing_df_copy['Groups'] = kmeans.fit_predict(scaled_features)\n",
    "\n",
    "testing_df_copy['Groups'] = testing_df_copy['Groups'].map({0: 'A', 1: 'B', 2: 'C', 3: 'D'}) #mapping A,B,C,D groups to 0,1,2,3\n",
    "print(testing_df_copy)\n",
    "\n",
    "# testing_df_copy.to_csv('24b0302_bonus_Q3&4.csv', index=False)\n"
   ]
  }
 ],
 "metadata": {
  "kernelspec": {
   "display_name": "Python 3",
   "language": "python",
   "name": "python3"
  },
  "language_info": {
   "codemirror_mode": {
    "name": "ipython",
    "version": 3
   },
   "file_extension": ".py",
   "mimetype": "text/x-python",
   "name": "python",
   "nbconvert_exporter": "python",
   "pygments_lexer": "ipython3",
   "version": "3.11.0"
  }
 },
 "nbformat": 4,
 "nbformat_minor": 4
}

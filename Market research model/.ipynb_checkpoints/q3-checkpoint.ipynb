{
 "cells": [
  {
   "cell_type": "markdown",
   "metadata": {},
   "source": [
    "Importing all the libraries"
   ]
  },
  {
   "cell_type": "code",
   "execution_count": null,
   "metadata": {},
   "outputs": [],
   "source": [
    "import numpy as np\n",
    "import pandas as pd\n",
    "from sklearn.preprocessing import StandardScaler\n",
    "from sklearn.preprocessing import LabelEncoder\n",
    "from sklearn.ensemble import RandomForestClassifier\n",
    "from sklearn.cluster import KMeans\n",
    "\n",
    "\n"
   ]
  },
  {
   "cell_type": "markdown",
   "metadata": {},
   "source": [
    "Reading and Handling Missing Data in Both the Dataframes"
   ]
  },
  {
   "cell_type": "code",
   "execution_count": null,
   "metadata": {},
   "outputs": [],
   "source": [
    "\n",
    "training_df = pd.read_csv('Q3, Q4_Consumer_Dataset.csv')\n",
    "testing_df = pd.read_csv('Q3, Q4_Consumer_Test_Dataset.csv')\n",
    "\n",
    "numerical_cols = ['Age', 'Family_Size', 'Work_Experience']\n",
    "categorical_cols = ['Gender', 'Ever_Married', 'Profession', 'Graduated', 'Energy_Consumption', 'Preferred_Renewable']\n",
    "\n",
    "all_cols = ['Age', 'Family_Size', 'Work_Experience','Gender', 'Ever_Married', 'Profession', 'Graduated', 'Energy_Consumption', 'Preferred_Renewable']\n",
    "\n",
    "for col in numerical_cols: #replace missing data with mean in numerical cols\n",
    "    training_df[col].fillna(training_df[col].mean(), inplace=True)\n",
    "    testing_df[col].fillna(testing_df[col].mean(), inplace=True)\n",
    "\n",
    "for col in categorical_cols: #replace missing data with mode in categorical data\n",
    "    training_df[col].fillna(training_df[col].mode()[0], inplace=True) #[0] as its a series\n",
    "    testing_df[col].fillna(testing_df[col].mode()[0], inplace=True)\n"
   ]
  },
  {
   "cell_type": "markdown",
   "metadata": {},
   "source": [
    "Label Encoding the categorical columns usinf LabelEncoder"
   ]
  },
  {
   "cell_type": "code",
   "execution_count": null,
   "metadata": {},
   "outputs": [],
   "source": [
    "le_dictionary = {}\n",
    "for col in categorical_cols:\n",
    "    le = LabelEncoder()\n",
    "    training_df[col] = le.fit_transform(training_df[col])\n",
    "    testing_df[col] = le.transform(testing_df[col])\n",
    "    le_dictionary[col] = le\n",
    "\n",
    "\n",
    "group_le = LabelEncoder() #making the instance\n",
    "training_df['Group'] = group_le.fit_transform(training_df['Group'])\n",
    "\n",
    "testing_df_copy  = testing_df.copy() #making a copy for the Bonus Question"
   ]
  },
  {
   "cell_type": "markdown",
   "metadata": {},
   "source": [
    "Random Forest Model for the first part of the problem"
   ]
  },
  {
   "cell_type": "code",
   "execution_count": null,
   "metadata": {},
   "outputs": [],
   "source": [
    "X_train = training_df.drop('Group', axis=1) #Removing the group colm from X \n",
    "y_train = training_df['Group']\n",
    "X_pred = testing_df\n",
    "\n",
    "rf = RandomForestClassifier(random_state=42) #42 as ive it 42 this whole assignment\n",
    "rf.fit(X_train, y_train)\n",
    "\n",
    "testing_df['Predicted_Group'] = group_le.inverse_transform(rf.predict(X_pred)) #to conver the label encoed data back to the categorical data \n",
    "\n",
    "print(testing_df) #printing the dataframe\n",
    "\n",
    "# testing_df.to_csv('24b0392_Q3&4.csv', index=False)"
   ]
  },
  {
   "cell_type": "markdown",
   "metadata": {},
   "source": [
    "BONUS PART : using kmeans clustering "
   ]
  },
  {
   "cell_type": "code",
   "execution_count": null,
   "metadata": {},
   "outputs": [],
   "source": [
    "scaler = StandardScaler()#explained in report why we use this\n",
    "scaled_features = scaler.fit_transform(testing_df_copy[all_cols])  #used the copy of the dataframe as that frame had a predicted_group col\n",
    "\n",
    "kmeans = KMeans(n_clusters=4, random_state=42) #as we have four groups , a ,b c, d\n",
    "testing_df_copy['Groups'] = kmeans.fit_predict(scaled_features)\n",
    "\n",
    "testing_df_copy['Groups'] = testing_df_copy['Groups'].map({0: 'A', 1: 'B', 2: 'C', 3: 'D'}) #mapping A,B,C,D groups to 0,1,2,3\n",
    "print(testing_df_copy)\n",
    "\n",
    "# testing_df_copy.to_csv('24b0302_bonus_Q3&4.csv', index=False)\n"
   ]
  }
 ],
 "metadata": {
  "kernelspec": {
   "display_name": "Python 3",
   "language": "python",
   "name": "python3"
  },
  "language_info": {
   "name": "python",
   "version": "3.11.0"
  }
 },
 "nbformat": 4,
 "nbformat_minor": 2
}
